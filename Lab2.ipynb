{
  "nbformat": 4,
  "nbformat_minor": 0,
  "metadata": {
    "colab": {
      "provenance": []
    },
    "kernelspec": {
      "name": "python3",
      "display_name": "Python 3"
    },
    "language_info": {
      "name": "python"
    }
  },
  "cells": [
    {
      "cell_type": "code",
      "execution_count": null,
      "metadata": {
        "id": "GAuTIlw5-F3Z"
      },
      "outputs": [],
      "source": []
    },
    {
      "cell_type": "markdown",
      "source": [
        "**Matplotlib**"
      ],
      "metadata": {
        "id": "mctddwJZCvng"
      }
    },
    {
      "cell_type": "markdown",
      "source": [
        "**Numpy**"
      ],
      "metadata": {
        "id": "-HwSzaclC-6l"
      }
    },
    {
      "cell_type": "markdown",
      "source": [
        "**Dictionary**"
      ],
      "metadata": {
        "id": "PGLSLDOyDFi6"
      }
    },
    {
      "cell_type": "code",
      "source": [
        "#Student Dictionary\n",
        "student = {\n",
        "    'name':'fatima',\n",
        "    'age':22,\n",
        "    'id':1\n",
        "}\n",
        "print(student)\n",
        "\n",
        "#updation\n",
        "student['name'] = 'Fatima'\n",
        "print(student)"
      ],
      "metadata": {
        "colab": {
          "base_uri": "https://localhost:8080/"
        },
        "id": "82IcpRQdV2ne",
        "outputId": "02099be8-9626-4c10-d422-c126379e5bf2"
      },
      "execution_count": 34,
      "outputs": [
        {
          "output_type": "stream",
          "name": "stdout",
          "text": [
            "{'name': 'fatima', 'age': 22, 'id': 1}\n",
            "{'name': 'Fatima', 'age': 22, 'id': 1}\n"
          ]
        }
      ]
    },
    {
      "cell_type": "markdown",
      "source": [
        "**List**"
      ],
      "metadata": {
        "id": "Vgd3K58QDJza"
      }
    },
    {
      "cell_type": "code",
      "source": [
        "#Printing list\n",
        "my_list = [1, 2, 3, 4, 5, 6, 7, 8, 9, 10]\n",
        "print(my_list)\n",
        "\n",
        "#Sum, Max, Min in list\n",
        "# total = sum(my_list)\n",
        "# print(\"Sum: \",sum(my_list))\n",
        "print(\"Max: \",max(my_list))\n",
        "print(\"Min: \",min(my_list))\n",
        "\n",
        "#Append, Remove from list\n",
        "my_list.append(10)\n",
        "my_list.remove(4)\n",
        "print(my_list)\n",
        "\n",
        "#Arranging list in ascending and Descending order\n",
        "print(\"Ascending \",sorted(my_list))\n",
        "print(\"Decending \",sorted(my_list, reverse=True))\n"
      ],
      "metadata": {
        "colab": {
          "base_uri": "https://localhost:8080/"
        },
        "id": "Pb2yuG9nIjNa",
        "outputId": "67f61989-ddb0-4561-e44d-1fb7929e5512"
      },
      "execution_count": 21,
      "outputs": [
        {
          "output_type": "stream",
          "name": "stdout",
          "text": [
            "[1, 2, 3, 4, 5, 6, 7, 8, 9, 10]\n",
            "Max:  10\n",
            "Min:  1\n",
            "[1, 2, 3, 5, 6, 7, 8, 9, 10, 10]\n",
            "Ascending  [1, 2, 3, 5, 6, 7, 8, 9, 10, 10]\n",
            "Decending  [10, 10, 9, 8, 7, 6, 5, 3, 2, 1]\n"
          ]
        }
      ]
    },
    {
      "cell_type": "code",
      "source": [],
      "metadata": {
        "id": "70xbldgJKcng"
      },
      "execution_count": null,
      "outputs": []
    },
    {
      "cell_type": "code",
      "source": [],
      "metadata": {
        "id": "kNtERdpEKdxI"
      },
      "execution_count": null,
      "outputs": []
    },
    {
      "cell_type": "markdown",
      "source": [
        "**Tuple**"
      ],
      "metadata": {
        "id": "LG98MypTDMe9"
      }
    },
    {
      "cell_type": "code",
      "source": [
        "#Printing Tuple\n",
        "fruits = ('banana','apple','strawberry','kiwi','apricot')\n",
        "print(fruits)\n",
        "\n",
        "#Printing second and last element\n",
        "print(\"second element: \",fruits[1])\n",
        "print(\"last element: \",fruits[-1])\n",
        "\n",
        "#Modifying Tuple\n",
        "# fruits[2]=\"orange\"\n",
        "# print(fruits)\n",
        "# fruit_list = list(fruits)\n",
        "# print(fruit_list)"
      ],
      "metadata": {
        "colab": {
          "base_uri": "https://localhost:8080/"
        },
        "id": "DeliRdoeMO61",
        "outputId": "b5ddfbcd-79e9-4bb3-baea-95e16b50d111"
      },
      "execution_count": 25,
      "outputs": [
        {
          "output_type": "stream",
          "name": "stdout",
          "text": [
            "('banana', 'apple', 'strawberry', 'kiwi', 'apricot')\n",
            "second element:  apple\n",
            "last element:  apricot\n"
          ]
        }
      ]
    },
    {
      "cell_type": "markdown",
      "source": [
        "**Set**"
      ],
      "metadata": {
        "id": "sK9NoQ1oDPM9"
      }
    },
    {
      "cell_type": "code",
      "source": [
        "#Printing set\n",
        "set1 = {1,2,3,4,5,5}\n",
        "set2 = {2,4,6,8,10}\n",
        "print(set1)\n",
        "print(set2)\n",
        "\n",
        "#Union, Intersection, Difference\n",
        "print(\"Union: \",set1.union(set2))\n",
        "print(\"Intersection: \",set1.intersection(set2))\n",
        "print(\"Difference: \",set1.difference(set2))\n",
        "\n",
        "#Add and Remove\n",
        "set1.add(15)\n",
        "set2.remove(4)\n",
        "print(set1)\n",
        "print(set2)"
      ],
      "metadata": {
        "id": "p3oZsWIgDUuz",
        "colab": {
          "base_uri": "https://localhost:8080/"
        },
        "outputId": "2ad1fef9-2f68-41e6-86a0-c1f30f6dbc97"
      },
      "execution_count": 30,
      "outputs": [
        {
          "output_type": "stream",
          "name": "stdout",
          "text": [
            "{1, 2, 3, 4, 5}\n",
            "{2, 4, 6, 8, 10}\n",
            "Union:  {1, 2, 3, 4, 5, 6, 8, 10}\n",
            "Intersection:  {2, 4}\n",
            "Difference:  {1, 3, 5}\n",
            "{1, 2, 3, 4, 5, 15}\n",
            "{2, 6, 8, 10}\n"
          ]
        }
      ]
    }
  ]
}