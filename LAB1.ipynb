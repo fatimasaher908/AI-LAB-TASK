{
  "nbformat": 4,
  "nbformat_minor": 0,
  "metadata": {
    "colab": {
      "provenance": [],
      "gpuType": "T4"
    },
    "kernelspec": {
      "name": "python3",
      "display_name": "Python 3"
    },
    "language_info": {
      "name": "python"
    },
    "accelerator": "GPU"
  },
  "cells": [
    {
      "cell_type": "code",
      "execution_count": 7,
      "metadata": {
        "colab": {
          "base_uri": "https://localhost:8080/"
        },
        "id": "y3j-RvJcCFLg",
        "outputId": "b39811ab-c0b9-4cc7-d6ec-3dae821a7dc1"
      },
      "outputs": [
        {
          "output_type": "stream",
          "name": "stdout",
          "text": [
            "fatima\n",
            "3\n"
          ]
        }
      ],
      "source": [
        "print(\"fatima\")\n",
        "a  = 3\n",
        "print(a)"
      ]
    },
    {
      "cell_type": "code",
      "source": [],
      "metadata": {
        "id": "KW_w1i7FEyOb"
      },
      "execution_count": 7,
      "outputs": []
    },
    {
      "cell_type": "markdown",
      "source": [
        "Name: Fatima Saher\n",
        "Registration no: SP23-BCS-055\n",
        "\n",
        "**Addition**\n",
        "**Subtraction**\n",
        "**Multiplication**\n",
        "\n",
        "\n",
        "\n",
        "\n",
        "\n"
      ],
      "metadata": {
        "id": "9QZZClbTDLJC"
      }
    },
    {
      "cell_type": "code",
      "source": [
        "a = 5;\n",
        "b = 6;\n",
        "print(a+b);\n"
      ],
      "metadata": {
        "colab": {
          "base_uri": "https://localhost:8080/"
        },
        "id": "MoPjdnJpFWa2",
        "outputId": "fb4fb119-176d-4e1c-c42f-e80139a95ea0"
      },
      "execution_count": 8,
      "outputs": [
        {
          "output_type": "stream",
          "name": "stdout",
          "text": [
            "11\n"
          ]
        }
      ]
    },
    {
      "cell_type": "code",
      "source": [
        "a = 5;\n",
        "b = 6;\n",
        "print(a-b);"
      ],
      "metadata": {
        "colab": {
          "base_uri": "https://localhost:8080/"
        },
        "id": "DSdWfVnCGMxs",
        "outputId": "3f2739c0-9782-4ddd-9b3a-f9f3095355f5"
      },
      "execution_count": 9,
      "outputs": [
        {
          "output_type": "stream",
          "name": "stdout",
          "text": [
            "-1\n"
          ]
        }
      ]
    },
    {
      "cell_type": "code",
      "source": [
        "a = 5;\n",
        "b = 6;\n",
        "print(a*b);"
      ],
      "metadata": {
        "colab": {
          "base_uri": "https://localhost:8080/"
        },
        "id": "mB9yML1lGPt2",
        "outputId": "df24c9fb-49cf-4a67-80ca-83d5c22193bf"
      },
      "execution_count": 10,
      "outputs": [
        {
          "output_type": "stream",
          "name": "stdout",
          "text": [
            "30\n"
          ]
        }
      ]
    },
    {
      "cell_type": "code",
      "source": [
        "a = 5;\n",
        "b = 6;\n",
        "print(a/b);"
      ],
      "metadata": {
        "colab": {
          "base_uri": "https://localhost:8080/"
        },
        "id": "PAsU5UzpGRzF",
        "outputId": "308a85ec-97c6-4e05-bb6b-c93061909b96"
      },
      "execution_count": 11,
      "outputs": [
        {
          "output_type": "stream",
          "name": "stdout",
          "text": [
            "0.8333333333333334\n"
          ]
        }
      ]
    },
    {
      "cell_type": "markdown",
      "source": [],
      "metadata": {
        "id": "YPkrzQfOE0-Q"
      }
    }
  ]
}