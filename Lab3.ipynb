{
  "nbformat": 4,
  "nbformat_minor": 0,
  "metadata": {
    "colab": {
      "provenance": []
    },
    "kernelspec": {
      "name": "python3",
      "display_name": "Python 3"
    },
    "language_info": {
      "name": "python"
    }
  },
  "cells": [
    {
      "cell_type": "code",
      "execution_count": 27,
      "metadata": {
        "id": "ZqlTljekCxXC"
      },
      "outputs": [],
      "source": [
        "from collections import deque\n",
        "pakistan_cities = {\n",
        "    'Karachi': ['Hyderabad'],\n",
        "    'Hyderabad': ['Karachi', 'Sukkur'],\n",
        "    'Sukkur': ['Hyderabad', 'Multan', 'Quetta'],\n",
        "    'Multan': ['Sukkur', 'Lahore'],\n",
        "    'Quetta': ['Sukkur'],\n",
        "    'Lahore': ['Multan', 'Islamabad'],\n",
        "    'Islamabad': ['Lahore', 'Peshawar'],\n",
        "    'Peshawar': ['Islamabad']\n",
        "}"
      ]
    },
    {
      "cell_type": "code",
      "source": [
        "#bfs\n",
        "\n",
        "def bfs_shortest_path(graph, start, goal):\n",
        "  queue = deque([[start]])\n",
        "  visited = set()\n",
        "\n",
        "  while queue:\n",
        "    path = queue.popleft()\n",
        "    current_city = path[-1]\n",
        "\n",
        "    if current_city == goal:\n",
        "      return path\n",
        "\n",
        "    if current_city not in visited:\n",
        "      visited.add(current_city)\n",
        "\n",
        "      for neighbour in graph.get(current_city,[]):\n",
        "        new_path = list(path)\n",
        "        new_path.append(neighbour)\n",
        "        queue.append(new_path)\n",
        "\n",
        "  return None\n",
        "\n"
      ],
      "metadata": {
        "id": "Zw5dPxcgNAWk"
      },
      "execution_count": 28,
      "outputs": []
    },
    {
      "cell_type": "code",
      "source": [
        "start_city = \"Karachi\"\n",
        "goal_city = \"Peshawar\"\n",
        "bfs_result = bfs_shortest_path(pakistan_cities, start_city, goal_city)\n",
        "print(\"BFS Shortest Path from Karachi to Peshawar:\", bfs_result)"
      ],
      "metadata": {
        "colab": {
          "base_uri": "https://localhost:8080/"
        },
        "id": "OZCvPgLUQvfW",
        "outputId": "bd015184-f4ff-49d0-e69d-ef82baad4feb"
      },
      "execution_count": 29,
      "outputs": [
        {
          "output_type": "stream",
          "name": "stdout",
          "text": [
            "BFS Shortest Path from Karachi to Peshawar: ['Karachi', 'Hyderabad', 'Sukkur', 'Multan', 'Lahore', 'Islamabad', 'Peshawar']\n"
          ]
        }
      ]
    },
    {
      "cell_type": "code",
      "source": [
        "def dfs_path(graph, start, goal, path=None, visited=None):\n",
        "  if path is None:\n",
        "    path = []\n",
        "  if visited is None:\n",
        "    visited = set()\n",
        "\n",
        "  path.append(start)\n",
        "  visited.add(start)\n",
        "\n",
        "  if start == goal:\n",
        "    return path\n",
        "\n",
        "  for neighbour in graph.get(start, []):\n",
        "    if neighbour not in visited:\n",
        "      result = dfs_path(graph, neighbour, goal, path.copy(), visited.copy())\n",
        "\n",
        "      if result:\n",
        "        return result\n",
        "\n",
        "  return None\n",
        ""
      ],
      "metadata": {
        "id": "kQLpPZkfSAY-"
      },
      "execution_count": 30,
      "outputs": []
    },
    {
      "cell_type": "code",
      "source": [
        "start_city = \"Karachi\"\n",
        "goal_city = \"Peshawar\"\n",
        "dfs_result = dfs_path(pakistan_cities, start_city, goal_city)\n",
        "print(\"DFS Path from Karachi to Peshawar:\", dfs_result)"
      ],
      "metadata": {
        "id": "ABmUX8iNT_cn",
        "outputId": "f45adf8d-7b18-4bfc-e12e-0a5e9639dde5",
        "colab": {
          "base_uri": "https://localhost:8080/"
        }
      },
      "execution_count": 31,
      "outputs": [
        {
          "output_type": "stream",
          "name": "stdout",
          "text": [
            "DFS Path from Karachi to Peshawar: ['Karachi', 'Hyderabad', 'Sukkur', 'Multan', 'Lahore', 'Islamabad', 'Peshawar']\n"
          ]
        }
      ]
    }
  ]
}