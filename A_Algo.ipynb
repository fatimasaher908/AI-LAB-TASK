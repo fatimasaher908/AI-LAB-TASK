{
  "nbformat": 4,
  "nbformat_minor": 0,
  "metadata": {
    "colab": {
      "provenance": []
    },
    "kernelspec": {
      "name": "python3",
      "display_name": "Python 3"
    },
    "language_info": {
      "name": "python"
    }
  },
  "cells": [
    {
      "cell_type": "code",
      "execution_count": 1,
      "metadata": {
        "colab": {
          "base_uri": "https://localhost:8080/"
        },
        "id": "rZMvD4S1KLIL",
        "outputId": "b78794d7-db7d-4c12-b8bd-05603493e078"
      },
      "outputs": [
        {
          "output_type": "stream",
          "name": "stdout",
          "text": [
            "A* path: ['Lahore', 'Faisalabad', 'Multan', 'Karachi']\n",
            "Total cost: 1280\n"
          ]
        }
      ],
      "source": [
        "import heapq\n",
        "\n",
        "city_map = {\n",
        "    \"Lahore\": {\"Islamabad\": 270, \"Faisalabad\": 180},\n",
        "    \"Islamabad\": {\"Lahore\": 270, \"Peshawar\": 190},\n",
        "    \"Faisalabad\": {\"Lahore\": 180, \"Multan\": 220},\n",
        "    \"Multan\": {\"Faisalabad\": 220, \"Karachi\": 880},\n",
        "    \"Peshawar\": {\"Islamabad\": 190},\n",
        "    \"Karachi\": {\"Multan\": 880}\n",
        "}\n",
        "\n",
        "estimated_distances = {\n",
        "    \"Lahore\": 1210,\n",
        "    \"Islamabad\": 1100,\n",
        "    \"Faisalabad\": 1050,\n",
        "    \"Multan\": 880,\n",
        "    \"Peshawar\": 1250,\n",
        "    \"Karachi\": 0\n",
        "}\n",
        "\n",
        "def a_star_search(map_data, start, destination, estimates):\n",
        "    queue = []\n",
        "    heapq.heappush(queue, (estimates[start], [start]))\n",
        "    travel_cost = {start: 0}\n",
        "    visited = set()\n",
        "\n",
        "    while queue:\n",
        "        current_f, route = heapq.heappop(queue)\n",
        "        current_city = route[-1]\n",
        "\n",
        "        if current_city == destination:\n",
        "            return route, travel_cost[current_city]\n",
        "\n",
        "        if current_city in visited:\n",
        "            continue\n",
        "\n",
        "        visited.add(current_city)\n",
        "\n",
        "        for neighbor, distance in map_data[current_city].items():\n",
        "            new_cost = travel_cost[current_city] + distance\n",
        "\n",
        "            if neighbor not in travel_cost or new_cost < travel_cost[neighbor]:\n",
        "                travel_cost[neighbor] = new_cost\n",
        "                total_estimated_cost = new_cost + estimates.get(neighbor, float('inf'))\n",
        "                new_route = route + [neighbor]\n",
        "                heapq.heappush(queue, (total_estimated_cost, new_route))\n",
        "\n",
        "    return None, float('inf')\n",
        "\n",
        "if __name__ == \"__main__\":\n",
        "    start_city = \"Lahore\"\n",
        "    target_city = \"Karachi\"\n",
        "    result_path, total_distance = a_star_search(city_map, start_city, target_city, estimated_distances)\n",
        "    print(\"A* path:\", result_path)\n",
        "    print(\"Total cost:\", total_distance)\n",
        "\n"
      ]
    }
  ]
}