{
  "nbformat": 4,
  "nbformat_minor": 0,
  "metadata": {
    "colab": {
      "provenance": []
    },
    "kernelspec": {
      "name": "python3",
      "display_name": "Python 3"
    },
    "language_info": {
      "name": "python"
    }
  },
  "cells": [
    {
      "cell_type": "code",
      "execution_count": null,
      "metadata": {
        "colab": {
          "base_uri": "https://localhost:8080/"
        },
        "id": "IMG7xP7qi7Um",
        "outputId": "4c4e76b0-dc6a-4015-ba52-0d53aa53a9bc"
      },
      "outputs": [
        {
          "output_type": "stream",
          "name": "stdout",
          "text": [
            "Student information:\n",
            "name: fatima\n",
            "age: 22\n",
            "roll_number: sp23-bcs-055\n",
            "grade: A\n",
            "{'name': 'fatima', 'age': 22, 'roll_number': 'sp23-bcs-055', 'grade': 'B'}\n",
            "{'name': 'fatima', 'age': 22, 'roll_number': 'sp23-bcs-055', 'grade': 'B', 'email': 'fatima@gmail.com'}\n",
            "{'name': 'fatima', 'age': 22, 'grade': 'B', 'email': 'fatima@gmail.com'}\n"
          ]
        }
      ],
      "source": [
        "#task 2\n",
        "\n",
        "student = {\n",
        "    \"name\": \"fatima\",\n",
        "    \"age\": 22,\n",
        "    \"roll_number\": \"sp23-bcs-055\",\n",
        "    \"grade\": \"A\"\n",
        "}\n",
        "\n",
        "print(\"Student information:\")\n",
        "for key, value in student.items():\n",
        "  print(f\"{key}: {value}\")\n",
        "\n",
        "student[\"grade\"] = \"B\"\n",
        "print(student)\n",
        "\n",
        "student[\"email\"] = \"fatima@gmail.com\"\n",
        "print(student)\n",
        "\n",
        "del student[\"roll_number\"]\n",
        "print(student)\n"
      ]
    },
    {
      "cell_type": "code",
      "source": [
        "#task 3\n",
        "import matplotlib.pyplot as plt\n",
        "\n",
        "X = [1, 2, 3, 4, 5]\n",
        "Y = [2, 4, 6, 8, 10]\n",
        "\n",
        "plt.plot(X,Y)\n",
        "\n",
        "plt.title(\"Simple Line Graph\")\n",
        "\n",
        "plt.xlabel(\"X-axis\")\n",
        "\n",
        "plt.ylabel(\"Y-axis\")\n",
        "\n",
        "plt.grid(True)\n",
        "\n",
        "plt.show()\n"
      ],
      "metadata": {
        "colab": {
          "base_uri": "https://localhost:8080/",
          "height": 472
        },
        "id": "1NitsD6ep7-n",
        "outputId": "64479b65-21d1-4ce1-e4df-4e7d8fea4591"
      },
      "execution_count": null,
      "outputs": [
        {
          "output_type": "display_data",
          "data": {
            "text/plain": [
              "<Figure size 640x480 with 1 Axes>"
            ],
            "image/png": "[encoded data removed]"
          },
          "metadata": {}
        }
      ]
    },
    {
      "cell_type": "code",
      "source": [
        "from os import stat_result\n",
        "import time\n",
        "import psutil\n",
        "from collections import deque\n",
        "\n",
        "def memory_usage():\n",
        "  return psutil.Process().memory_info().rss / 1024 ** 2\n",
        "\n",
        "jug1_capacity = 4\n",
        "jug2_capacity = 3\n",
        "goal = 2\n",
        "\n",
        "def is_goal(state):\n",
        "  return goal in state\n",
        "\n",
        "def get_next_states(state):\n",
        "    x, y = state\n",
        "    states = []\n",
        "\n",
        "    # Fill Jug1\n",
        "    states.append((jug1_capacity, y))\n",
        "    # Fill Jug2\n",
        "    states.append((x, jug2_capacity))\n",
        "    # Empty Jug1\n",
        "    states.append((0, y))\n",
        "    # Empty Jug2\n",
        "    states.append((x, 0))\n",
        "    # Pour Jug1 → Jug2\n",
        "    pour = min(x, jug2_capacity - y)\n",
        "    states.append((x - pour, y + pour))\n",
        "    # Pour Jug2 → Jug1\n",
        "    pour = min(y, jug1_capacity - x)\n",
        "    states.append((x + pour, y - pour))\n",
        "\n",
        "    return states\n",
        "\n",
        "\n"
      ],
      "metadata": {
        "id": "c2aOnpzQtXb7"
      },
      "execution_count": null,
      "outputs": []
    },
    {
      "cell_type": "code",
      "source": [
        "def bfs(start):\n",
        "    visited = set()\n",
        "    queue = deque([(start, [start])])\n",
        "\n",
        "    while queue:\n",
        "        (state, path) = queue.popleft()\n",
        "        if is_goal(state):\n",
        "            return path\n",
        "        visited.add(state)\n",
        "        for next_state in get_next_states(state):\n",
        "            if next_state not in visited:\n",
        "                queue.append((next_state, path + [next_state]))\n",
        "    return None\n"
      ],
      "metadata": {
        "id": "DJHiDY0ax3vR"
      },
      "execution_count": null,
      "outputs": []
    },
    {
      "cell_type": "code",
      "source": [
        "def dfs(start):\n",
        "  visited = set()\n",
        "  stack = [(start, [start])]\n",
        "\n",
        "  while stack:\n",
        "    (state, path) = stack.pop()\n",
        "    if is_goal(state):\n",
        "      return path\n",
        "    visited.add(state)\n",
        "    for next_state in get_next_states(state):\n",
        "      if next_state not in visited:\n",
        "        stack.append((next_state, path+[next_state]))\n",
        "  return None"
      ],
      "metadata": {
        "id": "vZJ3rNqYysr7"
      },
      "execution_count": null,
      "outputs": []
    },
    {
      "cell_type": "code",
      "source": [
        "start_state = (0,0)\n",
        "\n",
        "start_time = time.time()\n",
        "bfs_memory_before = memory_usage()\n",
        "bfs_path = bfs(start_state)\n",
        "bfs_memory_after = memory_usage()\n",
        "bfs_time = time.time() - start_time"
      ],
      "metadata": {
        "id": "q9b6fw0NzjDM"
      },
      "execution_count": null,
      "outputs": []
    },
    {
      "cell_type": "code",
      "source": [
        "start_time = time.time()\n",
        "dfs_memory_before = memory_usage()\n",
        "dfs_path = dfs(start_state)\n",
        "dfs_memory_after = memory_usage()\n",
        "dfs_time = time.time() - start_time"
      ],
      "metadata": {
        "id": "06Bes7Kp1W2O"
      },
      "execution_count": null,
      "outputs": []
    },
    {
      "cell_type": "code",
      "source": [
        "print(\"BFS Path:\", bfs_path)\n",
        "print(\"DFS Path:\", dfs_path)\n",
        "print()\n",
        "print(\"BFS Steps:\", len(bfs_path))\n",
        "print(\"DFS Steps:\", len(dfs_path))\n",
        "print()\n",
        "print(\"BFS Time Taken: {:.6f} sec\".format(bfs_time))\n",
        "print(\"DFS Time Taken: {:.6f} sec\".format(dfs_time))\n",
        "print()\n",
        "print(\"BFS Memory Used: {:.4f} MB\".format(bfs_memory_after - bfs_memory_before))\n",
        "print(\"DFS Memory Used: {:.4f} MB\".format(dfs_memory_after - dfs_memory_before))\n"
      ],
      "metadata": {
        "colab": {
          "base_uri": "https://localhost:8080/"
        },
        "id": "T6Cd9TPn10to",
        "outputId": "a0e3cf2a-aa8a-41bd-9bce-b4f75f302740"
      },
      "execution_count": null,
      "outputs": [
        {
          "output_type": "stream",
          "name": "stdout",
          "text": [
            "BFS Path: [(0, 0), (0, 3), (3, 0), (3, 3), (4, 2)]\n",
            "DFS Path: [(0, 0), (0, 3), (3, 0), (3, 3), (4, 2)]\n",
            "\n",
            "BFS Steps: 5\n",
            "DFS Steps: 5\n",
            "\n",
            "BFS Time Taken: 0.001327 sec\n",
            "DFS Time Taken: 0.001402 sec\n",
            "\n",
            "BFS Memory Used: 0.0000 MB\n",
            "DFS Memory Used: 0.0000 MB\n"
          ]
        }
      ]
    },
    {
      "cell_type": "code",
      "source": [
        "#task 6\n",
        "import heapq\n",
        "\n",
        "# Maze grid (0 = open, 1 = wall)\n",
        "maze = [\n",
        "    [1,0,1,0,0,0],\n",
        "    [0,0,0,0,1,0],\n",
        "    [0,0,1,0,0,0],\n",
        "    [0,0,0,1,0,0],\n",
        "    [0,0,0,0,0,1],\n",
        "    [0,0,0,0,0,0]\n",
        "]\n",
        "\n",
        "start = (0, 0)  # A\n",
        "goal = (5, 5)   # Y\n",
        "rows, cols = len(maze), len(maze[0])\n",
        "\n",
        "def heuristic(a, b):\n",
        "    # Manhattan distance\n",
        "    return abs(a[0] - b[0]) + abs(a[1] - b[1])\n",
        "\n",
        "def neighbors(node):\n",
        "    x, y = node\n",
        "    directions = [(1,0), (-1,0), (0,1), (0,-1)]\n",
        "    for dx, dy in directions:\n",
        "        nx, ny = x + dx, y + dy\n",
        "        if 0 <= nx < rows and 0 <= ny < cols and maze[nx][ny] == 0:\n",
        "            yield (nx, ny)\n",
        "\n",
        "def astar(start, goal):\n",
        "    open_set = []\n",
        "    heapq.heappush(open_set, (0 + heuristic(start, goal), 0, start))\n",
        "    came_from = {}\n",
        "    g_score = {start: 0}\n",
        "\n",
        "    while open_set:\n",
        "        _, cost, current = heapq.heappop(open_set)\n",
        "        if current == goal:\n",
        "            path = []\n",
        "            while current in came_from:\n",
        "                path.append(current)\n",
        "                current = came_from[current]\n",
        "            path.append(start)\n",
        "            return path[::-1]\n",
        "\n",
        "        for neighbor in neighbors(current):\n",
        "            new_cost = g_score[current] + 1\n",
        "            if neighbor not in g_score or new_cost < g_score[neighbor]:\n",
        "                g_score[neighbor] = new_cost\n",
        "                priority = new_cost + heuristic(neighbor, goal)\n",
        "                heapq.heappush(open_set, (priority, new_cost, neighbor))\n",
        "                came_from[neighbor] = current\n",
        "\n",
        "    return None\n",
        "\n",
        "path = astar(start, goal)\n",
        "print(\"Path:\", path)\n"
      ],
      "metadata": {
        "id": "Miz2qDmH3leV",
        "outputId": "6e48eb62-4922-404a-aa2e-75cbe277ba5d",
        "colab": {
          "base_uri": "https://localhost:8080/"
        }
      },
      "execution_count": null,
      "outputs": [
        {
          "output_type": "stream",
          "name": "stdout",
          "text": [
            "Path: [(0, 0), (0, 1), (1, 1), (1, 2), (1, 3), (2, 3), (2, 4), (3, 4), (4, 4), (5, 4), (5, 5)]\n"
          ]
        }
      ]
    }
  ]
}