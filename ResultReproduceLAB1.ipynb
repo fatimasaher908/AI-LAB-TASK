{
  "nbformat": 4,
  "nbformat_minor": 0,
  "metadata": {
    "colab": {
      "provenance": []
    },
    "kernelspec": {
      "name": "python3",
      "display_name": "Python 3"
    },
    "language_info": {
      "name": "python"
    }
  },
  "cells": [
    {
      "cell_type": "code",
      "execution_count": 191,
      "metadata": {
        "colab": {
          "base_uri": "https://localhost:8080/"
        },
        "id": "jBLOfB-ATeVO",
        "outputId": "67c3a4d3-1162-4592-dadc-5f4562533a70"
      },
      "outputs": [
        {
          "output_type": "stream",
          "name": "stdout",
          "text": [
            "Fatima\n"
          ]
        }
      ],
      "source": [
        "print(\"Fatima\");"
      ]
    },
    {
      "cell_type": "code",
      "source": [
        "#variables\n",
        "x = 4\n",
        "y = 5\n",
        "print(x + y)"
      ],
      "metadata": {
        "colab": {
          "base_uri": "https://localhost:8080/"
        },
        "id": "gVZ9NAWfTmrB",
        "outputId": "6b4955cd-87ba-42c9-a1ee-c383acdf09c0"
      },
      "execution_count": 192,
      "outputs": [
        {
          "output_type": "stream",
          "name": "stdout",
          "text": [
            "9\n"
          ]
        }
      ]
    },
    {
      "cell_type": "code",
      "source": [
        "x = str('Fatima')\n",
        "y = int(6)\n",
        "z = float(6)\n",
        "print(x)\n",
        "print(y)\n",
        "print(z)"
      ],
      "metadata": {
        "colab": {
          "base_uri": "https://localhost:8080/"
        },
        "id": "Vs-5HSTlUTLU",
        "outputId": "5c5b8333-d234-4adf-9b7a-32e094c89807"
      },
      "execution_count": 193,
      "outputs": [
        {
          "output_type": "stream",
          "name": "stdout",
          "text": [
            "Fatima\n",
            "6\n",
            "6.0\n"
          ]
        }
      ]
    },
    {
      "cell_type": "code",
      "source": [
        "a = 5\n",
        "print(type(a))"
      ],
      "metadata": {
        "colab": {
          "base_uri": "https://localhost:8080/"
        },
        "id": "6v1jr5b1Un90",
        "outputId": "e33e7d64-6925-4d73-c972-3313a02632c4"
      },
      "execution_count": 194,
      "outputs": [
        {
          "output_type": "stream",
          "name": "stdout",
          "text": [
            "<class 'int'>\n"
          ]
        }
      ]
    },
    {
      "cell_type": "code",
      "source": [
        "a = 6\n",
        "A = \"Fatima\"\n",
        "print(a)\n",
        "print(A)"
      ],
      "metadata": {
        "colab": {
          "base_uri": "https://localhost:8080/"
        },
        "id": "6c_d5qz-UuRY",
        "outputId": "3ec60cd8-f45d-4891-8b0f-71f34cb46156"
      },
      "execution_count": 195,
      "outputs": [
        {
          "output_type": "stream",
          "name": "stdout",
          "text": [
            "6\n",
            "Fatima\n"
          ]
        }
      ]
    },
    {
      "cell_type": "code",
      "source": [
        "_a = 4\n",
        "a = 6\n",
        "b1 = 34"
      ],
      "metadata": {
        "id": "BvL9pFgnVHel"
      },
      "execution_count": 196,
      "outputs": []
    },
    {
      "cell_type": "code",
      "source": [
        "a, b, c = \"Maths\", \"Chemistry\", \"Biology\"\n",
        "print(a)\n",
        "print(b)\n",
        "print(c)"
      ],
      "metadata": {
        "colab": {
          "base_uri": "https://localhost:8080/"
        },
        "id": "yO_PVRYLVVhF",
        "outputId": "6302d481-4da7-4b2f-bfb8-3822d61405cb"
      },
      "execution_count": 197,
      "outputs": [
        {
          "output_type": "stream",
          "name": "stdout",
          "text": [
            "Maths\n",
            "Chemistry\n",
            "Biology\n"
          ]
        }
      ]
    },
    {
      "cell_type": "code",
      "source": [
        "a = b = c = \"Maths\"\n",
        "print(a)\n",
        "print(b)\n",
        "print(c)"
      ],
      "metadata": {
        "colab": {
          "base_uri": "https://localhost:8080/"
        },
        "id": "iU9EXeiZVf7Q",
        "outputId": "e0c6f4fb-e841-46ae-8fbf-a61edfa12691"
      },
      "execution_count": 198,
      "outputs": [
        {
          "output_type": "stream",
          "name": "stdout",
          "text": [
            "Maths\n",
            "Maths\n",
            "Maths\n"
          ]
        }
      ]
    },
    {
      "cell_type": "code",
      "source": [
        "x = 5\n",
        "def add():\n",
        "  print(\" We offer \", x , \" prayers\")\n",
        "\n",
        "add()\n"
      ],
      "metadata": {
        "colab": {
          "base_uri": "https://localhost:8080/"
        },
        "id": "4kOk8Fx5VrrM",
        "outputId": "44f63a85-a125-4a9a-ca43-19646cf65971"
      },
      "execution_count": 199,
      "outputs": [
        {
          "output_type": "stream",
          "name": "stdout",
          "text": [
            " We offer  5  prayers\n"
          ]
        }
      ]
    },
    {
      "cell_type": "code",
      "source": [
        "stdData = {\n",
        "    \"id\" : 1,\n",
        "    \"name\" : \"Fatima\",\n",
        "    \"age\" : 22\n",
        "}\n",
        "print(stdData)\n",
        "print(stdData[\"id\"])"
      ],
      "metadata": {
        "colab": {
          "base_uri": "https://localhost:8080/"
        },
        "id": "HxT3mjZKWOeX",
        "outputId": "7ad84da7-0a39-4e3a-edf0-299ae94c8ff4"
      },
      "execution_count": 200,
      "outputs": [
        {
          "output_type": "stream",
          "name": "stdout",
          "text": [
            "{'id': 1, 'name': 'Fatima', 'age': 22}\n",
            "1\n"
          ]
        }
      ]
    },
    {
      "cell_type": "code",
      "source": [
        "stdData2 = {\n",
        "    \"id\" : 1,\n",
        "    \"name\" : \"Fatima\",\n",
        "    \"age\" : 22,\n",
        "    \"age\": 21\n",
        "}\n",
        "print(stdData2)\n",
        "print(len(stdData))\n",
        "stdData2.update({\"age\":22})\n",
        "print(stdData2)\n"
      ],
      "metadata": {
        "colab": {
          "base_uri": "https://localhost:8080/"
        },
        "id": "S1_0hLbdWu4a",
        "outputId": "815401f4-651c-4a6f-cb9a-c61682fd8abc"
      },
      "execution_count": 201,
      "outputs": [
        {
          "output_type": "stream",
          "name": "stdout",
          "text": [
            "{'id': 1, 'name': 'Fatima', 'age': 21}\n",
            "3\n",
            "{'id': 1, 'name': 'Fatima', 'age': 22}\n"
          ]
        }
      ]
    },
    {
      "cell_type": "code",
      "source": [
        "x = 2\n",
        "y = 3\n",
        "if x < y:\n",
        "  print(x, \" is the smaller value\")\n",
        "else:\n",
        "  print(y, \" is the smaller value\")\n",
        "\n"
      ],
      "metadata": {
        "colab": {
          "base_uri": "https://localhost:8080/"
        },
        "id": "u5PaIgZoW545",
        "outputId": "5ce099d9-3196-4233-f699-7bf137088b8a"
      },
      "execution_count": 202,
      "outputs": [
        {
          "output_type": "stream",
          "name": "stdout",
          "text": [
            "2  is the smaller value\n"
          ]
        }
      ]
    },
    {
      "cell_type": "code",
      "source": [
        "a = 6\n",
        "while(a > 1):\n",
        "  print(a)\n",
        "  a -= 1"
      ],
      "metadata": {
        "colab": {
          "base_uri": "https://localhost:8080/"
        },
        "id": "QMXE0JfkX_VO",
        "outputId": "5a796c94-655d-4704-ad4f-974aaf25997c"
      },
      "execution_count": 203,
      "outputs": [
        {
          "output_type": "stream",
          "name": "stdout",
          "text": [
            "6\n",
            "5\n",
            "4\n",
            "3\n",
            "2\n"
          ]
        }
      ]
    },
    {
      "cell_type": "code",
      "source": [
        "names = [\"fatima\", \"farwa\", \"maryam\"]\n",
        "for  x in names:\n",
        "  print(x)"
      ],
      "metadata": {
        "colab": {
          "base_uri": "https://localhost:8080/"
        },
        "id": "4Aw-9FBuYOOa",
        "outputId": "af03dd71-d397-4ee9-cfdb-f6b92cb867f2"
      },
      "execution_count": 204,
      "outputs": [
        {
          "output_type": "stream",
          "name": "stdout",
          "text": [
            "fatima\n",
            "farwa\n",
            "maryam\n"
          ]
        }
      ]
    },
    {
      "cell_type": "code",
      "source": [
        "def greeting(name = \"User\"):\n",
        "  print(\"Hello\", name)\n",
        "\n",
        "greeting(\"Fatima\")\n",
        "greeting()\n",
        "greeting(\"Amna\")"
      ],
      "metadata": {
        "colab": {
          "base_uri": "https://localhost:8080/"
        },
        "id": "Lyo6CTc7YlMF",
        "outputId": "14fd2ed5-36c3-408f-95b7-5920a86ddaa0"
      },
      "execution_count": 205,
      "outputs": [
        {
          "output_type": "stream",
          "name": "stdout",
          "text": [
            "Hello Fatima\n",
            "Hello User\n",
            "Hello Amna\n"
          ]
        }
      ]
    },
    {
      "cell_type": "code",
      "source": [
        "def tableFive(num):\n",
        "  return 5 * num\n",
        "\n",
        "print(tableFive(3))"
      ],
      "metadata": {
        "colab": {
          "base_uri": "https://localhost:8080/"
        },
        "id": "JuNJtYNvY8Zn",
        "outputId": "85c11040-3b68-4565-c059-1e63fd3c00cf"
      },
      "execution_count": 206,
      "outputs": [
        {
          "output_type": "stream",
          "name": "stdout",
          "text": [
            "15\n"
          ]
        }
      ]
    }
  ]
}